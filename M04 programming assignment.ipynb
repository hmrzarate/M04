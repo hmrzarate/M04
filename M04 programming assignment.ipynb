{
 "cells": [
  {
   "cell_type": "code",
   "execution_count": 12,
   "id": "29bd56a8",
   "metadata": {},
   "outputs": [
    {
     "ename": "OperationalError",
     "evalue": "table books already exists",
     "output_type": "error",
     "traceback": [
      "\u001b[1;31m---------------------------------------------------------------------------\u001b[0m",
      "\u001b[1;31mOperationalError\u001b[0m                          Traceback (most recent call last)",
      "Input \u001b[1;32mIn [12]\u001b[0m, in \u001b[0;36m<cell line: 5>\u001b[1;34m()\u001b[0m\n\u001b[0;32m      3\u001b[0m conn \u001b[38;5;241m=\u001b[39m sqlite3\u001b[38;5;241m.\u001b[39mconnect(\u001b[38;5;124m'\u001b[39m\u001b[38;5;124mbooks.db\u001b[39m\u001b[38;5;124m'\u001b[39m)\n\u001b[0;32m      4\u001b[0m curs \u001b[38;5;241m=\u001b[39m conn\u001b[38;5;241m.\u001b[39mcursor()\n\u001b[1;32m----> 5\u001b[0m \u001b[43mcurs\u001b[49m\u001b[38;5;241;43m.\u001b[39;49m\u001b[43mexecute\u001b[49m\u001b[43m(\u001b[49m\u001b[38;5;124;43m'''\u001b[39;49m\u001b[38;5;124;43mCREATE TABLE books\u001b[39;49m\n\u001b[0;32m      6\u001b[0m \u001b[38;5;124;43m    (title TEXT,\u001b[39;49m\n\u001b[0;32m      7\u001b[0m \u001b[38;5;124;43m     author TEXT,\u001b[39;49m\n\u001b[0;32m      8\u001b[0m \u001b[38;5;124;43m     year INTEGER\u001b[39;49m\n\u001b[0;32m      9\u001b[0m \u001b[38;5;124;43m     )\u001b[39;49m\u001b[38;5;124;43m'''\u001b[39;49m\u001b[43m)\u001b[49m\n\u001b[0;32m     10\u001b[0m conn\u001b[38;5;241m.\u001b[39mcommit()\n\u001b[0;32m     14\u001b[0m \u001b[38;5;28;01mimport\u001b[39;00m \u001b[38;5;21;01msqlalchemy\u001b[39;00m \u001b[38;5;28;01mas\u001b[39;00m \u001b[38;5;21;01mdb\u001b[39;00m\n",
      "\u001b[1;31mOperationalError\u001b[0m: table books already exists"
     ]
    }
   ],
   "source": [
    "# Program Name: ZARATE_HEATHER_M02\n",
    "# Author: Heather Zarate\n",
    "# Date: 9/15/2022\n",
    "\n",
    "# 11.1 and 11.2 activity\n",
    "\n",
    "def hours():\n",
    "    print('Open 9-5 daily')\n",
    "\n",
    "hours()\n",
    "\n",
    "import zoo \n",
    "\n",
    "import zoo as menagerie\n",
    "\n",
    "\n",
    "# 16.8 activity\n",
    "\n",
    "import sqlite3\n",
    "\n",
    "conn = sqlite3.connect('books.db')\n",
    "curs = conn.cursor()\n",
    "curs.execute('''CREATE TABLE books\n",
    "    (title TEXT,\n",
    "     author TEXT,\n",
    "     year INTEGER\n",
    "     )''')\n",
    "conn.commit()\n",
    "\n",
    "\n",
    "\n",
    "import sqlalchemy as db\n",
    "\n",
    "conn = sa.create_engine('sqlite://')\n",
    "\n",
    "query = db.select ([titles])\n",
    "print(titles)\n",
    "\n",
    "\n",
    "\n"
   ]
  },
  {
   "cell_type": "code",
   "execution_count": null,
   "id": "70b98549",
   "metadata": {},
   "outputs": [],
   "source": []
  },
  {
   "cell_type": "code",
   "execution_count": null,
   "id": "0604f163",
   "metadata": {},
   "outputs": [],
   "source": []
  }
 ],
 "metadata": {
  "kernelspec": {
   "display_name": "Python 3 (ipykernel)",
   "language": "python",
   "name": "python3"
  },
  "language_info": {
   "codemirror_mode": {
    "name": "ipython",
    "version": 3
   },
   "file_extension": ".py",
   "mimetype": "text/x-python",
   "name": "python",
   "nbconvert_exporter": "python",
   "pygments_lexer": "ipython3",
   "version": "3.9.12"
  }
 },
 "nbformat": 4,
 "nbformat_minor": 5
}
